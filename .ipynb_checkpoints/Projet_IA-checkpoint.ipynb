{
 "cells": [
  {
   "cell_type": "markdown",
   "id": "f4946a46",
   "metadata": {},
   "source": [
    "# Projet IA.\n",
    "## Livrable code\n",
    "\n",
    "\n",
    "|Auteur|Modification|\n",
    "|---|---|\n",
    "|Majorel Pierre|2023/03/13|\n",
    "|Alami Ouali Othmane|2023/03/13|\n",
    "|Lopez Daniel|2023/03/13|"
   ]
  },
  {
   "cell_type": "markdown",
   "id": "40e763af",
   "metadata": {},
   "source": [
    "### Préparation de l'environnement\n",
    "\n",
    "Ci-dessous quelques imports et précautions préalables à notre travail."
   ]
  },
  {
   "cell_type": "code",
   "execution_count": null,
   "id": "97933434",
   "metadata": {},
   "outputs": [],
   "source": [
    "!pip install numpy\n",
    "!pip install pandas\n",
    "!pip install sklearn"
   ]
  },
  {
   "cell_type": "code",
   "execution_count": null,
   "id": "a4d48d24",
   "metadata": {},
   "outputs": [],
   "source": [
    "# imports\n",
    "import numpy as np\n",
    "import os\n",
    "\n",
    "from numpy.random import default_rng\n",
    "# stabilité du notebook d'une exécution à l'autre\n",
    "random=default_rng(42) \n",
    "\n",
    "# jolies figures directement dans le notebook\n",
    "%matplotlib inline\n",
    "import matplotlib\n",
    "import matplotlib.pyplot as plt\n",
    "plt.rcParams['axes.labelsize'] = 14\n",
    "plt.rcParams['xtick.labelsize'] = 12\n",
    "plt.rcParams['ytick.labelsize'] = 12\n",
    "\n",
    "# où sauver les figures\n",
    "PROJECT_ROOT_DIR = r\"D:\\CESI\\A4\\IA\\Projet\" #changez ce chemin en fonction de votre dossier\n",
    "CHAPTER_ID = \"workflowDS\"\n",
    "IMAGES_PATH = os.path.join(PROJECT_ROOT_DIR, \"images\", CHAPTER_ID) # le dossier doit exister\n",
    "\n",
    "def save_fig(fig_id, tight_layout=True, fig_extension=\"png\", resolution=300):\n",
    "    path = os.path.join(IMAGES_PATH, fig_id + \".\" + fig_extension)\n",
    "    print(\"Saving figure\", fig_id)\n",
    "    if tight_layout:\n",
    "        plt.tight_layout()\n",
    "    plt.savefig(path, format=fig_extension, dpi=resolution)\n"
   ]
  },
  {
   "cell_type": "markdown",
   "id": "c5305870",
   "metadata": {},
   "source": [
    "### Import des données"
   ]
  },
  {
   "cell_type": "markdown",
   "id": "b77d13c9",
   "metadata": {},
   "source": [
    "Il convient d'automatiser l'import des données. On va implémenter une fonction qui se charge de :\n",
    "* télécharger l'archive\n",
    "* extraire les fichiers"
   ]
  },
  {
   "cell_type": "code",
   "execution_count": null,
   "id": "6e596fce",
   "metadata": {},
   "outputs": [],
   "source": [
    "import os\n",
    "import tarfile\n",
    "from six.moves import urllib\n",
    "\n",
    "DOWNLOAD_ROOT = \"https://github.com/ph10r/eiSpeInfoDS/raw/master/\" # A modifier\n",
    "HOUSING_PATH = PROJECT_ROOT_DIR\n",
    "HOUSING_URL = DOWNLOAD_ROOT + \"housing.tgz\" # A modifier\n",
    "\n",
    "def fetch_housing_data(housing_url=HOUSING_URL, housing_path=HOUSING_PATH): # A modifier\n",
    "    if not os.path.isdir(housing_path): # A modifier\n",
    "        os.makedirs(housing_path) # A modifier\n",
    "    \n",
    "    tgz_path = os.path.join(housing_path, \"housing.tgz\") ## A modifier\n",
    "    urllib.request.urlretrieve(housing_url, tgz_path) ## A modifier\n",
    "    housing_tgz = tarfile.open(tgz_path) ## A modifier\n",
    "    housing_tgz.extractall(path=housing_path) ## A modifier\n",
    "    housing_tgz.close() ## A modifier"
   ]
  },
  {
   "cell_type": "markdown",
   "id": "737c6543",
   "metadata": {},
   "source": [
    "On peut maintenant importer les données :"
   ]
  },
  {
   "cell_type": "code",
   "execution_count": null,
   "id": "d8da2073",
   "metadata": {},
   "outputs": [],
   "source": [
    "###########TOUT A MODIFIER###########\n",
    "fetch_housing_data()\n",
    "###########TOUT A MODIFIER###########"
   ]
  },
  {
   "cell_type": "markdown",
   "id": "523bd5c0",
   "metadata": {},
   "source": [
    "### Chargement des données en mémoire"
   ]
  },
  {
   "cell_type": "code",
   "execution_count": null,
   "id": "e37f8f8e",
   "metadata": {},
   "outputs": [],
   "source": [
    "###########TOUT A MODIFIER###########\n",
    "import pandas as pd\n",
    "\n",
    "def load_housing_data(housing_path=HOUSING_PATH):\n",
    "    csv_path = os.path.join(housing_path, \"housing.csv\")\n",
    "    return pd.read_csv(csv_path)\n",
    "\n",
    "housing = load_housing_data()\n",
    "###########TOUT A MODIFIER###########"
   ]
  },
  {
   "cell_type": "markdown",
   "id": "a43637db",
   "metadata": {},
   "source": [
    "### Visualization des données\n",
    "\n",
    "Nous affichons un histogramme par attribut numérique"
   ]
  },
  {
   "cell_type": "code",
   "execution_count": null,
   "id": "f4ef813d",
   "metadata": {},
   "outputs": [],
   "source": [
    "housing.hist(bins=50, figsize=(20,15))\n",
    "#A modifier"
   ]
  },
  {
   "cell_type": "markdown",
   "id": "86c45c4b",
   "metadata": {},
   "source": [
    "### Séparation du jeu de donnée\n",
    "\n",
    "Ici nous allons couper notre jeu de données en deux \n",
    "* 1) Le train set\n",
    "* 2) Le test set"
   ]
  },
  {
   "cell_type": "code",
   "execution_count": null,
   "id": "5c998984",
   "metadata": {},
   "outputs": [],
   "source": [
    "###########TOUT A MODIFIER###########\n",
    "from sklearn.model_selection import train_test_split\n",
    "from sklearn.model_selection import StratifiedShuffleSplit\n",
    "\n",
    "housing[\"income_cat\"] = np.ceil(housing[\"median_income\"]/1.5)\n",
    "housing[\"income_cat\"].where(housing[\"income_cat\"] < 5, 5.0, inplace=True) # replace where false\n",
    "\n",
    "split = StratifiedShuffleSplit(n_splits=1, test_size=0.2, random_state=42)\n",
    "\n",
    "for train_index, test_index in split.split(housing, housing[\"income_cat\"]):\n",
    "    strat_train_set = housing.loc[train_index]\n",
    "    strat_test_set = housing.loc[test_index]\n",
    "\n",
    "for set_ in (strat_train_set, strat_test_set):\n",
    "    set_.drop(\"income_cat\", axis=1, inplace=True)\n",
    "\n",
    "housing = strat_train_set.copy()\n",
    "###########TOUT A MODIFIER###########"
   ]
  },
  {
   "cell_type": "markdown",
   "id": "3ded7544",
   "metadata": {},
   "source": [
    "### Création de la pipeline"
   ]
  },
  {
   "cell_type": "code",
   "execution_count": null,
   "id": "8e4937f0",
   "metadata": {},
   "outputs": [],
   "source": [
    "###########TOUT A MODIFIER###########\n",
    "housing = strat_train_set.drop(\"median_house_value\", axis=1)\n",
    "housing_labels = strat_train_set[\"median_house_value\"].copy()\n",
    "\n",
    "from sklearn.impute import SimpleImputer\n",
    "from sklearn.preprocessing import OneHotEncoder\n",
    "from sklearn.pipeline import Pipeline\n",
    "from sklearn.preprocessing import StandardScaler\n",
    "from sklearn.base import BaseEstimator, TransformerMixin\n",
    "from sklearn.compose import ColumnTransformer\n",
    "\n",
    "rooms_ix, bedrooms_ix, population_ix, household_ix = 3, 4, 5, 6\n",
    "\n",
    "class CombinedAttributesAdder(BaseEstimator, TransformerMixin):\n",
    "    def __init__(self, add_bedrooms_per_room = True): # no *args or **kargs\n",
    "        self.add_bedrooms_per_room = add_bedrooms_per_room\n",
    "    def fit(self, X, y=None):\n",
    "        return self  # nothing else to do\n",
    "    def transform(self, X, y=None):\n",
    "        rooms_per_household = X[:, rooms_ix] / X[:, household_ix]\n",
    "        population_per_household = X[:, population_ix] / X[:, household_ix]\n",
    "        if self.add_bedrooms_per_room:\n",
    "            bedrooms_per_room = X[:, bedrooms_ix] / X[:, rooms_ix]\n",
    "            return np.c_[X, rooms_per_household, population_per_household,\n",
    "                         bedrooms_per_room]\n",
    "        else:\n",
    "            return np.c_[X, rooms_per_household, population_per_household]\n",
    "\n",
    "num_pipeline = Pipeline([\n",
    "        ('imputer', SimpleImputer(strategy=\"median\")),\n",
    "        ('attribs_adder', CombinedAttributesAdder()),\n",
    "        ('std_scaler', StandardScaler()),\n",
    "    ])\n",
    "\n",
    "housing_num = housing.select_dtypes(include=[np.number]) \n",
    "num_attribs = list(housing_num)\n",
    "cat_attribs = [\"ocean_proximity\"]\n",
    "\n",
    "full_pipeline = ColumnTransformer([\n",
    "        (\"num\", num_pipeline, num_attribs),\n",
    "        (\"cat\", OneHotEncoder(), cat_attribs),\n",
    "    ])\n",
    "\n",
    "housing_prepared = full_pipeline.fit_transform(housing)\n",
    "###########TOUT A MODIFIER###########"
   ]
  },
  {
   "cell_type": "markdown",
   "id": "3344a5fd",
   "metadata": {},
   "source": [
    "### Utilisation du modèle X"
   ]
  },
  {
   "cell_type": "code",
   "execution_count": null,
   "id": "8b611114",
   "metadata": {},
   "outputs": [],
   "source": []
  },
  {
   "cell_type": "markdown",
   "id": "1ff4a778",
   "metadata": {},
   "source": [
    "### Indice de qualité du modèle X"
   ]
  },
  {
   "cell_type": "code",
   "execution_count": null,
   "id": "e4f31c2e",
   "metadata": {},
   "outputs": [],
   "source": []
  },
  {
   "cell_type": "markdown",
   "id": "29ac5972",
   "metadata": {},
   "source": [
    "#### Précision et recall"
   ]
  },
  {
   "cell_type": "code",
   "execution_count": null,
   "id": "c95c3871",
   "metadata": {},
   "outputs": [],
   "source": [
    "from sklearn.metrics import precision_recall_curve\n",
    "precisions, recalls, thresholds = precision_recall_curve(y_train_5, y_scores) # A changer\n",
    "\n",
    "def plot_precision_recall_vs_threshold(precisions, recalls, thresholds): # A changer\n",
    "    plt.plot(thresholds, precisions[:-1], \"b-\", label=\"Precision\", linewidth=2) # A changer\n",
    "    plt.plot(thresholds, recalls[:-1], \"g-\", label=\"Recall\", linewidth=2) # A changer\n",
    "    plt.xlabel(\"Threshold\", fontsize=16)\n",
    "    plt.legend(loc=\"upper left\", fontsize=16)\n",
    "    plt.ylim([0, 1])\n",
    "\n",
    "plt.figure(figsize=(8, 4))\n",
    "plot_precision_recall_vs_threshold(precisions, recalls, thresholds) # A changer\n",
    "plt.xlim([-700000, 700000])\n",
    "save_fig(\"precision_recall_vs_threshold_plot\")\n",
    "plt.show()\n",
    "\n",
    "def plot_precision_vs_recall(precisions, recalls): # A changer\n",
    "    plt.plot(recalls, precisions, \"k-\", linewidth=2) # A changer\n",
    "    plt.xlabel(\"Recall\", fontsize=16)\n",
    "    plt.ylabel(\"Precision\", fontsize=16)\n",
    "    plt.axis([0, 1, 0, 1])\n",
    "\n",
    "plt.figure(figsize=(8, 6))\n",
    "plot_precision_vs_recall(precisions, recalls) # A changer\n",
    "save_fig(\"precision_vs_recall_plot\")\n",
    "plt.show()"
   ]
  },
  {
   "cell_type": "markdown",
   "id": "cd6aea64",
   "metadata": {},
   "source": [
    "#### Courbe ROC"
   ]
  },
  {
   "cell_type": "code",
   "execution_count": null,
   "id": "11faa45e",
   "metadata": {},
   "outputs": [],
   "source": [
    "from sklearn.metrics import roc_curve\n",
    "\n",
    "fpr, tpr, thresholds = roc_curve(y_train_5, y_scores) # A changer\n",
    "\n",
    "def plot_roc_curve(fpr, tpr, label=None): # A changer\n",
    "    plt.plot(fpr, tpr, linewidth=2, label=label) # A changer\n",
    "    plt.plot([0, 1], [0, 1], 'k--')\n",
    "    plt.axis([0, 1, 0, 1])\n",
    "    plt.xlabel('False Positive Rate', fontsize=16)\n",
    "    plt.ylabel('True Positive Rate', fontsize=16)\n",
    "\n",
    "plt.figure(figsize=(8, 6))\n",
    "plot_roc_curve(fpr, tpr) # A changer\n",
    "save_fig(\"roc_curve_plot\")\n",
    "plt.show()"
   ]
  },
  {
   "cell_type": "markdown",
   "id": "2e6e5ffe",
   "metadata": {},
   "source": [
    "### Cross validation pour tester le modèle X"
   ]
  },
  {
   "cell_type": "code",
   "execution_count": null,
   "id": "54182a79",
   "metadata": {},
   "outputs": [],
   "source": [
    "from sklearn.model_selection import cross_val_score\n",
    "\n",
    "scores = cross_val_score(tree_reg, housing_prepared, housing_labels, # A changer\n",
    "                         scoring=\"neg_mean_squared_error\", cv=10) # A changer\n",
    "tree_rmse_scores = np.sqrt(-scores) # A changer\n",
    "\n",
    "def display_scores(scores):\n",
    "    print(\"Scores:\", scores)\n",
    "    print(\"Mean:\", scores.mean())\n",
    "    print(\"Standard deviation:\", scores.std())\n",
    "\n",
    "display_scores(tree_rmse_scores)"
   ]
  },
  {
   "cell_type": "markdown",
   "id": "8fc8f49f",
   "metadata": {},
   "source": [
    "### Utilisation du modèle Y"
   ]
  },
  {
   "cell_type": "code",
   "execution_count": null,
   "id": "acf4dfc7",
   "metadata": {},
   "outputs": [],
   "source": []
  },
  {
   "cell_type": "markdown",
   "id": "a0dc610f",
   "metadata": {},
   "source": [
    "### Indice de qualité du modèle Y"
   ]
  },
  {
   "cell_type": "code",
   "execution_count": null,
   "id": "943e0e6b",
   "metadata": {},
   "outputs": [],
   "source": []
  },
  {
   "cell_type": "markdown",
   "id": "74a3c347",
   "metadata": {},
   "source": [
    "#### Précision et recall"
   ]
  },
  {
   "cell_type": "code",
   "execution_count": null,
   "id": "1c6996d3",
   "metadata": {},
   "outputs": [],
   "source": [
    "from sklearn.metrics import precision_recall_curve\n",
    "precisions, recalls, thresholds = precision_recall_curve(y_train_5, y_scores) # A changer\n",
    "\n",
    "def plot_precision_recall_vs_threshold(precisions, recalls, thresholds): # A changer\n",
    "    plt.plot(thresholds, precisions[:-1], \"b-\", label=\"Precision\", linewidth=2) # A changer\n",
    "    plt.plot(thresholds, recalls[:-1], \"g-\", label=\"Recall\", linewidth=2) # A changer\n",
    "    plt.xlabel(\"Threshold\", fontsize=16)\n",
    "    plt.legend(loc=\"upper left\", fontsize=16)\n",
    "    plt.ylim([0, 1])\n",
    "\n",
    "plt.figure(figsize=(8, 4))\n",
    "plot_precision_recall_vs_threshold(precisions, recalls, thresholds) # A changer\n",
    "plt.xlim([-700000, 700000])\n",
    "save_fig(\"precision_recall_vs_threshold_plot\")\n",
    "plt.show()\n",
    "\n",
    "def plot_precision_vs_recall(precisions, recalls): # A changer\n",
    "    plt.plot(recalls, precisions, \"k-\", linewidth=2) # A changer\n",
    "    plt.xlabel(\"Recall\", fontsize=16)\n",
    "    plt.ylabel(\"Precision\", fontsize=16)\n",
    "    plt.axis([0, 1, 0, 1])\n",
    "\n",
    "plt.figure(figsize=(8, 6))\n",
    "plot_precision_vs_recall(precisions, recalls) # A changer\n",
    "save_fig(\"precision_vs_recall_plot\")\n",
    "plt.show()"
   ]
  },
  {
   "cell_type": "markdown",
   "id": "71a8413b",
   "metadata": {},
   "source": [
    "#### Courbe ROC"
   ]
  },
  {
   "cell_type": "code",
   "execution_count": null,
   "id": "6b713f67",
   "metadata": {},
   "outputs": [],
   "source": [
    "from sklearn.metrics import roc_curve\n",
    "\n",
    "fpr, tpr, thresholds = roc_curve(y_train_5, y_scores) # A changer\n",
    "\n",
    "def plot_roc_curve(fpr, tpr, label=None): # A changer\n",
    "    plt.plot(fpr, tpr, linewidth=2, label=label) # A changer\n",
    "    plt.plot([0, 1], [0, 1], 'k--')\n",
    "    plt.axis([0, 1, 0, 1])\n",
    "    plt.xlabel('False Positive Rate', fontsize=16)\n",
    "    plt.ylabel('True Positive Rate', fontsize=16)\n",
    "\n",
    "plt.figure(figsize=(8, 6))\n",
    "plot_roc_curve(fpr, tpr) # A changer\n",
    "save_fig(\"roc_curve_plot\")\n",
    "plt.show()"
   ]
  },
  {
   "cell_type": "markdown",
   "id": "a793ffa7",
   "metadata": {},
   "source": [
    "### Cross validation pour tester le modèle Y"
   ]
  },
  {
   "cell_type": "code",
   "execution_count": null,
   "id": "6676e2ca",
   "metadata": {},
   "outputs": [],
   "source": [
    "from sklearn.model_selection import cross_val_score\n",
    "\n",
    "scores = cross_val_score(tree_reg, housing_prepared, housing_labels, # A changer\n",
    "                         scoring=\"neg_mean_squared_error\", cv=10) # A changer\n",
    "tree_rmse_scores = np.sqrt(-scores) # A changer\n",
    "\n",
    "def display_scores(scores):\n",
    "    print(\"Scores:\", scores)\n",
    "    print(\"Mean:\", scores.mean())\n",
    "    print(\"Standard deviation:\", scores.std())\n",
    "\n",
    "display_scores(tree_rmse_scores)"
   ]
  },
  {
   "cell_type": "markdown",
   "id": "3e3a21cc",
   "metadata": {},
   "source": [
    "### Utilisation du modèle N"
   ]
  },
  {
   "cell_type": "code",
   "execution_count": null,
   "id": "92ab6a21",
   "metadata": {},
   "outputs": [],
   "source": []
  },
  {
   "cell_type": "markdown",
   "id": "6c3981d5",
   "metadata": {},
   "source": [
    "### Indice de qualité du modèle N"
   ]
  },
  {
   "cell_type": "code",
   "execution_count": null,
   "id": "c725840f",
   "metadata": {},
   "outputs": [],
   "source": []
  },
  {
   "cell_type": "markdown",
   "id": "233ceb8f",
   "metadata": {},
   "source": [
    "#### Précision et recall"
   ]
  },
  {
   "cell_type": "code",
   "execution_count": null,
   "id": "eb341ad6",
   "metadata": {},
   "outputs": [],
   "source": [
    "from sklearn.metrics import precision_recall_curve\n",
    "precisions, recalls, thresholds = precision_recall_curve(y_train_5, y_scores) # A changer\n",
    "\n",
    "def plot_precision_recall_vs_threshold(precisions, recalls, thresholds): # A changer\n",
    "    plt.plot(thresholds, precisions[:-1], \"b-\", label=\"Precision\", linewidth=2) # A changer\n",
    "    plt.plot(thresholds, recalls[:-1], \"g-\", label=\"Recall\", linewidth=2) # A changer\n",
    "    plt.xlabel(\"Threshold\", fontsize=16)\n",
    "    plt.legend(loc=\"upper left\", fontsize=16)\n",
    "    plt.ylim([0, 1])\n",
    "\n",
    "plt.figure(figsize=(8, 4))\n",
    "plot_precision_recall_vs_threshold(precisions, recalls, thresholds) # A changer\n",
    "plt.xlim([-700000, 700000])\n",
    "save_fig(\"precision_recall_vs_threshold_plot\")\n",
    "plt.show()\n",
    "\n",
    "def plot_precision_vs_recall(precisions, recalls): # A changer\n",
    "    plt.plot(recalls, precisions, \"k-\", linewidth=2) # A changer\n",
    "    plt.xlabel(\"Recall\", fontsize=16)\n",
    "    plt.ylabel(\"Precision\", fontsize=16)\n",
    "    plt.axis([0, 1, 0, 1])\n",
    "\n",
    "plt.figure(figsize=(8, 6))\n",
    "plot_precision_vs_recall(precisions, recalls) # A changer\n",
    "save_fig(\"precision_vs_recall_plot\")\n",
    "plt.show()"
   ]
  },
  {
   "cell_type": "markdown",
   "id": "f6e38853",
   "metadata": {},
   "source": [
    "#### Courbe ROC"
   ]
  },
  {
   "cell_type": "code",
   "execution_count": null,
   "id": "62ed1920",
   "metadata": {},
   "outputs": [],
   "source": [
    "from sklearn.metrics import roc_curve\n",
    "\n",
    "fpr, tpr, thresholds = roc_curve(y_train_5, y_scores) # A changer\n",
    "\n",
    "def plot_roc_curve(fpr, tpr, label=None): # A changer\n",
    "    plt.plot(fpr, tpr, linewidth=2, label=label) # A changer\n",
    "    plt.plot([0, 1], [0, 1], 'k--')\n",
    "    plt.axis([0, 1, 0, 1])\n",
    "    plt.xlabel('False Positive Rate', fontsize=16)\n",
    "    plt.ylabel('True Positive Rate', fontsize=16)\n",
    "\n",
    "plt.figure(figsize=(8, 6))\n",
    "plot_roc_curve(fpr, tpr) # A changer\n",
    "save_fig(\"roc_curve_plot\")\n",
    "plt.show()"
   ]
  },
  {
   "cell_type": "markdown",
   "id": "e39c1a4a",
   "metadata": {},
   "source": [
    "### Cross validation pour tester le modèle N"
   ]
  },
  {
   "cell_type": "code",
   "execution_count": null,
   "id": "78720eda",
   "metadata": {},
   "outputs": [],
   "source": [
    "from sklearn.model_selection import cross_val_score\n",
    "\n",
    "scores = cross_val_score(tree_reg, housing_prepared, housing_labels, # A changer\n",
    "                         scoring=\"neg_mean_squared_error\", cv=10) # A changer\n",
    "tree_rmse_scores = np.sqrt(-scores) # A changer\n",
    "\n",
    "def display_scores(scores):\n",
    "    print(\"Scores:\", scores)\n",
    "    print(\"Mean:\", scores.mean())\n",
    "    print(\"Standard deviation:\", scores.std())\n",
    "\n",
    "display_scores(tree_rmse_scores)"
   ]
  },
  {
   "cell_type": "markdown",
   "id": "608c8d3a",
   "metadata": {},
   "source": [
    "### Séléction du meilleur modèle\n",
    "\n",
    "#### Courbe ROC de comparaison\n",
    "\n",
    "Afin de choisir un modèle, nous allons utiliser les différentes courbes ROC réalisées précédement et les comparer.\n",
    "Le modèle ayant la meilleure courbe sera celui que nous séléctionnerons pour la suite du projet."
   ]
  },
  {
   "cell_type": "code",
   "execution_count": null,
   "id": "e9e52c36",
   "metadata": {},
   "outputs": [],
   "source": [
    "plt.figure(figsize=(8, 6))\n",
    "plt.plot(fpr, tpr, \"b:\", linewidth=2, label=\"SGD\") #A modifier\n",
    "plot_roc_curve(fpr_forest, tpr_forest, \"Random Forest\") #A modifier\n",
    "plt.legend(loc=\"lower right\", fontsize=16)\n",
    "save_fig(\"roc_curve_comparison_plot\")\n",
    "plt.show()"
   ]
  },
  {
   "cell_type": "markdown",
   "id": "9093b863",
   "metadata": {},
   "source": [
    "### Entrainement sur le test set"
   ]
  },
  {
   "cell_type": "code",
   "execution_count": null,
   "id": "337086fb",
   "metadata": {},
   "outputs": [],
   "source": [
    "###########TOUT A MODIFIER###########\n",
    "final_model = random_search.best_estimator_\n",
    "\n",
    "X_test = strat_test_set.drop(\"median_house_value\", axis=1)\n",
    "y_test = strat_test_set[\"median_house_value\"].copy()\n",
    "###########TOUT A MODIFIER###########"
   ]
  },
  {
   "cell_type": "markdown",
   "id": "6c66bf44",
   "metadata": {},
   "source": [
    "### Utilistation du modèle pour les prédictions"
   ]
  },
  {
   "cell_type": "code",
   "execution_count": null,
   "id": "a10104d8",
   "metadata": {},
   "outputs": [],
   "source": [
    "###########TOUT A MODIFIER###########\n",
    "X_test_prepared = full_pipeline.transform(X_test)\n",
    "final_predictions = final_model.predict(X_test_prepared)\n",
    "final_rmse = mean_squared_error(y_test, final_predictions, squared = False)\n",
    "final_rmse\n",
    "###########TOUT A MODIFIER###########"
   ]
  },
  {
   "cell_type": "markdown",
   "id": "f5725633",
   "metadata": {},
   "source": [
    "#### Conclusion"
   ]
  }
 ],
 "metadata": {
  "kernelspec": {
   "display_name": "Python 3 (ipykernel)",
   "language": "python",
   "name": "python3"
  },
  "language_info": {
   "codemirror_mode": {
    "name": "ipython",
    "version": 3
   },
   "file_extension": ".py",
   "mimetype": "text/x-python",
   "name": "python",
   "nbconvert_exporter": "python",
   "pygments_lexer": "ipython3",
   "version": "3.11.2"
  }
 },
 "nbformat": 4,
 "nbformat_minor": 5
}
