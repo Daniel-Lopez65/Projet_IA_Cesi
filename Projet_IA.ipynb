{
 "cells": [
  {
   "cell_type": "markdown",
   "id": "f4946a46",
   "metadata": {
    "id": "f4946a46"
   },
   "source": [
    "# Projet IA.\n",
    "## Livrable code\n",
    "\n",
    "\n",
    "|Auteur|Modification|\n",
    "|---|---|\n",
    "|Majorel Pierre|2023/03/13|\n",
    "|Alami Ouali Othmane|2023/03/13|\n",
    "|Lopez Daniel|2023/03/13|"
   ]
  },
  {
   "cell_type": "markdown",
   "id": "40e763af",
   "metadata": {
    "id": "40e763af"
   },
   "source": [
    "### Préparation de l'environnement\n",
    "\n",
    "Ci-dessous quelques imports et précautions préalables à notre travail."
   ]
  },
  {
   "cell_type": "code",
   "execution_count": 10,
   "id": "97933434",
   "metadata": {
    "colab": {
     "base_uri": "https://localhost:8080/"
    },
    "id": "97933434",
    "outputId": "66a240cd-a3d6-4d6e-c8d9-b5200586418e"
   },
   "outputs": [
    {
     "name": "stdout",
     "output_type": "stream",
     "text": [
      "Requirement already satisfied: numpy in d:\\logiciel_cesi\\anaconda\\lib\\site-packages (1.21.5)\n",
      "Requirement already satisfied: pandas in d:\\logiciel_cesi\\anaconda\\lib\\site-packages (1.4.4)\n",
      "Requirement already satisfied: pytz>=2020.1 in d:\\logiciel_cesi\\anaconda\\lib\\site-packages (from pandas) (2022.1)\n",
      "Requirement already satisfied: numpy>=1.18.5 in d:\\logiciel_cesi\\anaconda\\lib\\site-packages (from pandas) (1.21.5)\n",
      "Requirement already satisfied: python-dateutil>=2.8.1 in d:\\logiciel_cesi\\anaconda\\lib\\site-packages (from pandas) (2.8.2)\n",
      "Requirement already satisfied: six>=1.5 in d:\\logiciel_cesi\\anaconda\\lib\\site-packages (from python-dateutil>=2.8.1->pandas) (1.16.0)\n",
      "Requirement already satisfied: sklearn in d:\\logiciel_cesi\\anaconda\\lib\\site-packages (0.0.post1)\n"
     ]
    }
   ],
   "source": [
    "!pip install numpy\n",
    "!pip install pandas\n",
    "!pip install sklearn"
   ]
  },
  {
   "cell_type": "code",
   "execution_count": 11,
   "id": "a4d48d24",
   "metadata": {
    "id": "a4d48d24"
   },
   "outputs": [],
   "source": [
    "# import\n",
    "import numpy as np\n",
    "import os\n",
    "\n",
    "from numpy.random import default_rng\n",
    "# stabilité du notebook d'une exécution à l'autre\n",
    "random=default_rng(42) \n",
    "\n",
    "# jolies figures directement dans le notebook\n",
    "%matplotlib inline\n",
    "import matplotlib\n",
    "import matplotlib.pyplot as plt\n",
    "plt.rcParams['axes.labelsize'] = 14\n",
    "plt.rcParams['xtick.labelsize'] = 12\n",
    "plt.rcParams['ytick.labelsize'] = 12\n",
    "\n",
    "# où sauver les figures\n",
    "PROJECT_ROOT_DIR = r\".\" #changez ce chemin en fonction de votre dossier\n",
    "CHAPTER_ID = \"Images_Projet\"\n",
    "IMAGES_PATH = os.path.join(PROJECT_ROOT_DIR, \"images\", CHAPTER_ID) # le dossier doit exister\n",
    "\n",
    "def save_fig(fig_id, tight_layout=True, fig_extension=\"png\", resolution=300):\n",
    "    path = os.path.join(IMAGES_PATH, fig_id + \".\" + fig_extension)\n",
    "    print(\"Saving figure\", fig_id)\n",
    "    if tight_layout:\n",
    "        plt.tight_layout()\n",
    "    plt.savefig(path, format=fig_extension, dpi=resolution)"
   ]
  },
  {
   "cell_type": "markdown",
   "id": "c5305870",
   "metadata": {
    "id": "c5305870"
   },
   "source": [
    "### Import des données"
   ]
  },
  {
   "cell_type": "markdown",
   "id": "b77d13c9",
   "metadata": {
    "id": "b77d13c9"
   },
   "source": [
    "Il convient d'automatiser l'import des données. On va implémenter une fonction qui se charge de :\n",
    "* télécharger l'archive\n",
    "* extraire les fichiers"
   ]
  },
  {
   "cell_type": "markdown",
   "id": "737c6543",
   "metadata": {
    "id": "737c6543"
   },
   "source": [
    "On peut maintenant importer les données :"
   ]
  },
  {
   "cell_type": "markdown",
   "id": "523bd5c0",
   "metadata": {
    "id": "523bd5c0"
   },
   "source": [
    "### Chargement des données en mémoire"
   ]
  },
  {
   "cell_type": "code",
   "execution_count": 12,
   "id": "e37f8f8e",
   "metadata": {
    "id": "e37f8f8e"
   },
   "outputs": [],
   "source": [
    "###########TOUT A MODIFIER###########\n",
    "import pandas as pd\n",
    "\n",
    "def load_donnees_data():\n",
    "    csv_path = \"Donnees_triees.csv\"\n",
    "    return pd.read_csv(csv_path, encoding = \"ISO-8859-1\")\n",
    "\n",
    "donnees = load_donnees_data()\n",
    "###########TOUT A MODIFIER###########"
   ]
  },
  {
   "cell_type": "code",
   "execution_count": 13,
   "id": "d289fc03",
   "metadata": {},
   "outputs": [
    {
     "data": {
      "text/html": [
       "<div>\n",
       "<style scoped>\n",
       "    .dataframe tbody tr th:only-of-type {\n",
       "        vertical-align: middle;\n",
       "    }\n",
       "\n",
       "    .dataframe tbody tr th {\n",
       "        vertical-align: top;\n",
       "    }\n",
       "\n",
       "    .dataframe thead th {\n",
       "        text-align: right;\n",
       "    }\n",
       "</style>\n",
       "<table border=\"1\" class=\"dataframe\">\n",
       "  <thead>\n",
       "    <tr style=\"text-align: right;\">\n",
       "      <th></th>\n",
       "      <th>EmployeeID</th>\n",
       "      <th>Age</th>\n",
       "      <th>Attrition</th>\n",
       "      <th>BusinessTravel</th>\n",
       "      <th>Department</th>\n",
       "      <th>DistanceFromHome</th>\n",
       "      <th>Education</th>\n",
       "      <th>Gender</th>\n",
       "      <th>JobLevel</th>\n",
       "      <th>JobRole</th>\n",
       "      <th>...</th>\n",
       "      <th>TotalWorkingYears</th>\n",
       "      <th>TrainingTimesLastYear</th>\n",
       "      <th>YearsAtCompany</th>\n",
       "      <th>YearsSinceLastPromotion</th>\n",
       "      <th>YearsWithCurrManager</th>\n",
       "      <th>EnvironmentSatisfaction</th>\n",
       "      <th>WorkLifeBalance</th>\n",
       "      <th>JobInvolvement</th>\n",
       "      <th>Heure moyenne par jour sur l'annï¿½e</th>\n",
       "      <th>Nombre de jour travaillï¿½s</th>\n",
       "    </tr>\n",
       "  </thead>\n",
       "  <tbody>\n",
       "    <tr>\n",
       "      <th>0</th>\n",
       "      <td>1</td>\n",
       "      <td>51</td>\n",
       "      <td>No</td>\n",
       "      <td>Travel_Rarely</td>\n",
       "      <td>Sales</td>\n",
       "      <td>6</td>\n",
       "      <td>2</td>\n",
       "      <td>Female</td>\n",
       "      <td>1</td>\n",
       "      <td>Healthcare Representative</td>\n",
       "      <td>...</td>\n",
       "      <td>1.0</td>\n",
       "      <td>6</td>\n",
       "      <td>1</td>\n",
       "      <td>0</td>\n",
       "      <td>0</td>\n",
       "      <td>3.0</td>\n",
       "      <td>2.0</td>\n",
       "      <td>3</td>\n",
       "      <td>06:33:16</td>\n",
       "      <td>232</td>\n",
       "    </tr>\n",
       "    <tr>\n",
       "      <th>1</th>\n",
       "      <td>2</td>\n",
       "      <td>31</td>\n",
       "      <td>Yes</td>\n",
       "      <td>Travel_Frequently</td>\n",
       "      <td>Research &amp; Development</td>\n",
       "      <td>10</td>\n",
       "      <td>1</td>\n",
       "      <td>Female</td>\n",
       "      <td>1</td>\n",
       "      <td>Research Scientist</td>\n",
       "      <td>...</td>\n",
       "      <td>6.0</td>\n",
       "      <td>3</td>\n",
       "      <td>5</td>\n",
       "      <td>1</td>\n",
       "      <td>4</td>\n",
       "      <td>3.0</td>\n",
       "      <td>4.0</td>\n",
       "      <td>2</td>\n",
       "      <td>06:58:47</td>\n",
       "      <td>236</td>\n",
       "    </tr>\n",
       "    <tr>\n",
       "      <th>2</th>\n",
       "      <td>3</td>\n",
       "      <td>32</td>\n",
       "      <td>No</td>\n",
       "      <td>Travel_Frequently</td>\n",
       "      <td>Research &amp; Development</td>\n",
       "      <td>17</td>\n",
       "      <td>4</td>\n",
       "      <td>Male</td>\n",
       "      <td>4</td>\n",
       "      <td>Sales Executive</td>\n",
       "      <td>...</td>\n",
       "      <td>5.0</td>\n",
       "      <td>2</td>\n",
       "      <td>5</td>\n",
       "      <td>0</td>\n",
       "      <td>3</td>\n",
       "      <td>2.0</td>\n",
       "      <td>1.0</td>\n",
       "      <td>3</td>\n",
       "      <td>06:30:10</td>\n",
       "      <td>242</td>\n",
       "    </tr>\n",
       "    <tr>\n",
       "      <th>3</th>\n",
       "      <td>4</td>\n",
       "      <td>38</td>\n",
       "      <td>No</td>\n",
       "      <td>Non-Travel</td>\n",
       "      <td>Research &amp; Development</td>\n",
       "      <td>2</td>\n",
       "      <td>5</td>\n",
       "      <td>Male</td>\n",
       "      <td>3</td>\n",
       "      <td>Human Resources</td>\n",
       "      <td>...</td>\n",
       "      <td>13.0</td>\n",
       "      <td>5</td>\n",
       "      <td>8</td>\n",
       "      <td>7</td>\n",
       "      <td>5</td>\n",
       "      <td>4.0</td>\n",
       "      <td>3.0</td>\n",
       "      <td>2</td>\n",
       "      <td>06:28:37</td>\n",
       "      <td>235</td>\n",
       "    </tr>\n",
       "    <tr>\n",
       "      <th>4</th>\n",
       "      <td>5</td>\n",
       "      <td>32</td>\n",
       "      <td>No</td>\n",
       "      <td>Travel_Rarely</td>\n",
       "      <td>Research &amp; Development</td>\n",
       "      <td>10</td>\n",
       "      <td>1</td>\n",
       "      <td>Male</td>\n",
       "      <td>1</td>\n",
       "      <td>Sales Executive</td>\n",
       "      <td>...</td>\n",
       "      <td>9.0</td>\n",
       "      <td>2</td>\n",
       "      <td>6</td>\n",
       "      <td>0</td>\n",
       "      <td>4</td>\n",
       "      <td>4.0</td>\n",
       "      <td>3.0</td>\n",
       "      <td>3</td>\n",
       "      <td>07:30:55</td>\n",
       "      <td>245</td>\n",
       "    </tr>\n",
       "  </tbody>\n",
       "</table>\n",
       "<p>5 rows × 24 columns</p>\n",
       "</div>"
      ],
      "text/plain": [
       "   EmployeeID  Age Attrition     BusinessTravel              Department  \\\n",
       "0           1   51        No      Travel_Rarely                   Sales   \n",
       "1           2   31       Yes  Travel_Frequently  Research & Development   \n",
       "2           3   32        No  Travel_Frequently  Research & Development   \n",
       "3           4   38        No         Non-Travel  Research & Development   \n",
       "4           5   32        No      Travel_Rarely  Research & Development   \n",
       "\n",
       "   DistanceFromHome  Education  Gender  JobLevel                    JobRole  \\\n",
       "0                 6          2  Female         1  Healthcare Representative   \n",
       "1                10          1  Female         1         Research Scientist   \n",
       "2                17          4    Male         4            Sales Executive   \n",
       "3                 2          5    Male         3            Human Resources   \n",
       "4                10          1    Male         1            Sales Executive   \n",
       "\n",
       "   ...  TotalWorkingYears  TrainingTimesLastYear  YearsAtCompany  \\\n",
       "0  ...                1.0                      6               1   \n",
       "1  ...                6.0                      3               5   \n",
       "2  ...                5.0                      2               5   \n",
       "3  ...               13.0                      5               8   \n",
       "4  ...                9.0                      2               6   \n",
       "\n",
       "   YearsSinceLastPromotion  YearsWithCurrManager  EnvironmentSatisfaction  \\\n",
       "0                        0                     0                      3.0   \n",
       "1                        1                     4                      3.0   \n",
       "2                        0                     3                      2.0   \n",
       "3                        7                     5                      4.0   \n",
       "4                        0                     4                      4.0   \n",
       "\n",
       "   WorkLifeBalance  JobInvolvement  Heure moyenne par jour sur l'annï¿½e  \\\n",
       "0              2.0               3                              06:33:16   \n",
       "1              4.0               2                              06:58:47   \n",
       "2              1.0               3                              06:30:10   \n",
       "3              3.0               2                              06:28:37   \n",
       "4              3.0               3                              07:30:55   \n",
       "\n",
       "   Nombre de jour travaillï¿½s  \n",
       "0                          232  \n",
       "1                          236  \n",
       "2                          242  \n",
       "3                          235  \n",
       "4                          245  \n",
       "\n",
       "[5 rows x 24 columns]"
      ]
     },
     "execution_count": 13,
     "metadata": {},
     "output_type": "execute_result"
    }
   ],
   "source": [
    "donnees.head()"
   ]
  },
  {
   "cell_type": "markdown",
   "id": "a43637db",
   "metadata": {
    "id": "a43637db"
   },
   "source": [
    "### Visualization des données\n",
    "\n",
    "Nous affichons un histogramme par attribut numérique"
   ]
  },
  {
   "cell_type": "code",
   "execution_count": 14,
   "id": "f4ef813d",
   "metadata": {
    "id": "f4ef813d"
   },
   "outputs": [
    {
     "data": {
      "text/plain": [
       "array([[<AxesSubplot:title={'center':'EmployeeID'}>,\n",
       "        <AxesSubplot:title={'center':'Age'}>,\n",
       "        <AxesSubplot:title={'center':'DistanceFromHome'}>,\n",
       "        <AxesSubplot:title={'center':'Education'}>],\n",
       "       [<AxesSubplot:title={'center':'JobLevel'}>,\n",
       "        <AxesSubplot:title={'center':'MonthlyIncome'}>,\n",
       "        <AxesSubplot:title={'center':'NumCompaniesWorked'}>,\n",
       "        <AxesSubplot:title={'center':'PercentSalaryHike'}>],\n",
       "       [<AxesSubplot:title={'center':'StockOptionLevel'}>,\n",
       "        <AxesSubplot:title={'center':'TotalWorkingYears'}>,\n",
       "        <AxesSubplot:title={'center':'TrainingTimesLastYear'}>,\n",
       "        <AxesSubplot:title={'center':'YearsAtCompany'}>],\n",
       "       [<AxesSubplot:title={'center':'YearsSinceLastPromotion'}>,\n",
       "        <AxesSubplot:title={'center':'YearsWithCurrManager'}>,\n",
       "        <AxesSubplot:title={'center':'EnvironmentSatisfaction'}>,\n",
       "        <AxesSubplot:title={'center':'WorkLifeBalance'}>],\n",
       "       [<AxesSubplot:title={'center':'JobInvolvement'}>,\n",
       "        <AxesSubplot:title={'center':'Nombre de jour travaillï¿½s'}>,\n",
       "        <AxesSubplot:>, <AxesSubplot:>]], dtype=object)"
      ]
     },
     "execution_count": 14,
     "metadata": {},
     "output_type": "execute_result"
    },
    {
     "data": {
      "image/png": "[encoded data removed]",
      "text/plain": [
       "<Figure size 2000x1500 with 20 Axes>"
      ]
     },
     "metadata": {},
     "output_type": "display_data"
    }
   ],
   "source": [
    "donnees.hist(bins=50, figsize=(20,15))"
   ]
  },
  {
   "cell_type": "markdown",
   "id": "ff824c52",
   "metadata": {},
   "source": [
    "Nous affichons des boites a moustaches"
   ]
  },
  {
   "cell_type": "code",
   "execution_count": 22,
   "id": "6365fbe8",
   "metadata": {},
   "outputs": [],
   "source": [
    "# donnees.boxplot(by ='Age', column =['test'], grid = False) #A revoir"
   ]
  },
  {
   "cell_type": "markdown",
   "id": "86c45c4b",
   "metadata": {
    "id": "86c45c4b"
   },
   "source": [
    "### Séparation du jeu de donnée\n",
    "\n",
    "Ici nous allons couper notre jeu de données en deux \n",
    "* 1) Le train set\n",
    "* 2) Le test set"
   ]
  },
  {
   "cell_type": "code",
   "execution_count": null,
   "id": "5c998984",
   "metadata": {
    "id": "5c998984"
   },
   "outputs": [],
   "source": [
    "###########TOUT A MODIFIER###########\n",
    "from sklearn.model_selection import train_test_split\n",
    "from sklearn.model_selection import StratifiedShuffleSplit\n",
    "\n",
    "donnees[\"income_cat\"] = np.ceil(housing[\"median_income\"]/1.5)\n",
    "donnees[\"income_cat\"].where(housing[\"income_cat\"] < 5, 5.0, inplace=True) # replace where false\n",
    "\n",
    "split = StratifiedShuffleSplit(n_splits=1, test_size=0.2, random_state=42)\n",
    "\n",
    "for train_index, test_index in split.split(housing, housing[\"income_cat\"]):\n",
    "    strat_train_set = housing.loc[train_index]\n",
    "    strat_test_set = housing.loc[test_index]\n",
    "\n",
    "for set_ in (strat_train_set, strat_test_set):\n",
    "    set_.drop(\"income_cat\", axis=1, inplace=True)\n",
    "\n",
    "housing = strat_train_set.copy()\n",
    "###########TOUT A MODIFIER###########"
   ]
  },
  {
   "cell_type": "markdown",
   "id": "3ded7544",
   "metadata": {
    "id": "3ded7544"
   },
   "source": [
    "### Création de la pipeline"
   ]
  },
  {
   "cell_type": "code",
   "execution_count": null,
   "id": "8e4937f0",
   "metadata": {
    "id": "8e4937f0"
   },
   "outputs": [],
   "source": [
    "###########TOUT A MODIFIER###########\n",
    "housing = strat_train_set.drop(\"median_house_value\", axis=1)\n",
    "housing_labels = strat_train_set[\"median_house_value\"].copy()\n",
    "\n",
    "from sklearn.impute import SimpleImputer\n",
    "from sklearn.preprocessing import OneHotEncoder\n",
    "from sklearn.pipeline import Pipeline\n",
    "from sklearn.preprocessing import StandardScaler\n",
    "from sklearn.base import BaseEstimator, TransformerMixin\n",
    "from sklearn.compose import ColumnTransformer\n",
    "\n",
    "rooms_ix, bedrooms_ix, population_ix, household_ix = 3, 4, 5, 6\n",
    "\n",
    "class CombinedAttributesAdder(BaseEstimator, TransformerMixin):\n",
    "    def __init__(self, add_bedrooms_per_room = True): # no *args or **kargs\n",
    "        self.add_bedrooms_per_room = add_bedrooms_per_room\n",
    "    def fit(self, X, y=None):\n",
    "        return self  # nothing else to do\n",
    "    def transform(self, X, y=None):\n",
    "        rooms_per_household = X[:, rooms_ix] / X[:, household_ix]\n",
    "        population_per_household = X[:, population_ix] / X[:, household_ix]\n",
    "        if self.add_bedrooms_per_room:\n",
    "            bedrooms_per_room = X[:, bedrooms_ix] / X[:, rooms_ix]\n",
    "            return np.c_[X, rooms_per_household, population_per_household,\n",
    "                         bedrooms_per_room]\n",
    "        else:\n",
    "            return np.c_[X, rooms_per_household, population_per_household]\n",
    "\n",
    "num_pipeline = Pipeline([\n",
    "        ('imputer', SimpleImputer(strategy=\"median\")),\n",
    "        ('attribs_adder', CombinedAttributesAdder()),\n",
    "        ('std_scaler', StandardScaler()),\n",
    "    ])\n",
    "\n",
    "housing_num = housing.select_dtypes(include=[np.number]) \n",
    "num_attribs = list(housing_num)\n",
    "cat_attribs = [\"ocean_proximity\"]\n",
    "\n",
    "full_pipeline = ColumnTransformer([\n",
    "        (\"num\", num_pipeline, num_attribs),\n",
    "        (\"cat\", OneHotEncoder(), cat_attribs),\n",
    "    ])\n",
    "\n",
    "housing_prepared = full_pipeline.fit_transform(housing)\n",
    "###########TOUT A MODIFIER###########"
   ]
  },
  {
   "cell_type": "markdown",
   "id": "3344a5fd",
   "metadata": {
    "id": "3344a5fd"
   },
   "source": [
    "### Utilisation du modèle X"
   ]
  },
  {
   "cell_type": "code",
   "execution_count": null,
   "id": "8b611114",
   "metadata": {
    "id": "8b611114"
   },
   "outputs": [],
   "source": []
  },
  {
   "cell_type": "markdown",
   "id": "1ff4a778",
   "metadata": {
    "id": "1ff4a778"
   },
   "source": [
    "### Indice de qualité du modèle X"
   ]
  },
  {
   "cell_type": "code",
   "execution_count": null,
   "id": "e4f31c2e",
   "metadata": {
    "id": "e4f31c2e"
   },
   "outputs": [],
   "source": []
  },
  {
   "cell_type": "markdown",
   "id": "29ac5972",
   "metadata": {
    "id": "29ac5972"
   },
   "source": [
    "#### Précision et recall"
   ]
  },
  {
   "cell_type": "code",
   "execution_count": null,
   "id": "c95c3871",
   "metadata": {
    "id": "c95c3871"
   },
   "outputs": [],
   "source": [
    "from sklearn.metrics import precision_recall_curve\n",
    "precisions, recalls, thresholds = precision_recall_curve(y_train_5, y_scores) # A changer\n",
    "\n",
    "def plot_precision_recall_vs_threshold(precisions, recalls, thresholds): # A changer\n",
    "    plt.plot(thresholds, precisions[:-1], \"b-\", label=\"Precision\", linewidth=2) # A changer\n",
    "    plt.plot(thresholds, recalls[:-1], \"g-\", label=\"Recall\", linewidth=2) # A changer\n",
    "    plt.xlabel(\"Threshold\", fontsize=16)\n",
    "    plt.legend(loc=\"upper left\", fontsize=16)\n",
    "    plt.ylim([0, 1])\n",
    "\n",
    "plt.figure(figsize=(8, 4))\n",
    "plot_precision_recall_vs_threshold(precisions, recalls, thresholds) # A changer\n",
    "plt.xlim([-700000, 700000])\n",
    "save_fig(\"precision_recall_vs_threshold_plot\")\n",
    "plt.show()\n",
    "\n",
    "def plot_precision_vs_recall(precisions, recalls): # A changer\n",
    "    plt.plot(recalls, precisions, \"k-\", linewidth=2) # A changer\n",
    "    plt.xlabel(\"Recall\", fontsize=16)\n",
    "    plt.ylabel(\"Precision\", fontsize=16)\n",
    "    plt.axis([0, 1, 0, 1])\n",
    "\n",
    "plt.figure(figsize=(8, 6))\n",
    "plot_precision_vs_recall(precisions, recalls) # A changer\n",
    "save_fig(\"precision_vs_recall_plot\")\n",
    "plt.show()"
   ]
  },
  {
   "cell_type": "markdown",
   "id": "cd6aea64",
   "metadata": {
    "id": "cd6aea64"
   },
   "source": [
    "#### Courbe ROC"
   ]
  },
  {
   "cell_type": "code",
   "execution_count": null,
   "id": "11faa45e",
   "metadata": {
    "id": "11faa45e"
   },
   "outputs": [],
   "source": [
    "from sklearn.metrics import roc_curve\n",
    "\n",
    "fpr, tpr, thresholds = roc_curve(y_train_5, y_scores) # A changer\n",
    "\n",
    "def plot_roc_curve(fpr, tpr, label=None): # A changer\n",
    "    plt.plot(fpr, tpr, linewidth=2, label=label) # A changer\n",
    "    plt.plot([0, 1], [0, 1], 'k--')\n",
    "    plt.axis([0, 1, 0, 1])\n",
    "    plt.xlabel('False Positive Rate', fontsize=16)\n",
    "    plt.ylabel('True Positive Rate', fontsize=16)\n",
    "\n",
    "plt.figure(figsize=(8, 6))\n",
    "plot_roc_curve(fpr, tpr) # A changer\n",
    "save_fig(\"roc_curve_plot\")\n",
    "plt.show()"
   ]
  },
  {
   "cell_type": "markdown",
   "id": "2e6e5ffe",
   "metadata": {
    "id": "2e6e5ffe"
   },
   "source": [
    "### Cross validation pour tester le modèle X"
   ]
  },
  {
   "cell_type": "code",
   "execution_count": null,
   "id": "54182a79",
   "metadata": {
    "id": "54182a79"
   },
   "outputs": [],
   "source": [
    "from sklearn.model_selection import cross_val_score\n",
    "\n",
    "scores = cross_val_score(tree_reg, housing_prepared, housing_labels, # A changer\n",
    "                         scoring=\"neg_mean_squared_error\", cv=10) # A changer\n",
    "tree_rmse_scores = np.sqrt(-scores) # A changer\n",
    "\n",
    "def display_scores(scores):\n",
    "    print(\"Scores:\", scores)\n",
    "    print(\"Mean:\", scores.mean())\n",
    "    print(\"Standard deviation:\", scores.std())\n",
    "\n",
    "display_scores(tree_rmse_scores)"
   ]
  },
  {
   "cell_type": "markdown",
   "id": "8fc8f49f",
   "metadata": {
    "id": "8fc8f49f"
   },
   "source": [
    "### Utilisation du modèle Y"
   ]
  },
  {
   "cell_type": "code",
   "execution_count": null,
   "id": "acf4dfc7",
   "metadata": {
    "id": "acf4dfc7"
   },
   "outputs": [],
   "source": []
  },
  {
   "cell_type": "markdown",
   "id": "a0dc610f",
   "metadata": {
    "id": "a0dc610f"
   },
   "source": [
    "### Indice de qualité du modèle Y"
   ]
  },
  {
   "cell_type": "code",
   "execution_count": null,
   "id": "943e0e6b",
   "metadata": {
    "id": "943e0e6b"
   },
   "outputs": [],
   "source": []
  },
  {
   "cell_type": "markdown",
   "id": "74a3c347",
   "metadata": {
    "id": "74a3c347"
   },
   "source": [
    "#### Précision et recall"
   ]
  },
  {
   "cell_type": "code",
   "execution_count": null,
   "id": "1c6996d3",
   "metadata": {
    "id": "1c6996d3"
   },
   "outputs": [],
   "source": [
    "from sklearn.metrics import precision_recall_curve\n",
    "precisions, recalls, thresholds = precision_recall_curve(y_train_5, y_scores) # A changer\n",
    "\n",
    "def plot_precision_recall_vs_threshold(precisions, recalls, thresholds): # A changer\n",
    "    plt.plot(thresholds, precisions[:-1], \"b-\", label=\"Precision\", linewidth=2) # A changer\n",
    "    plt.plot(thresholds, recalls[:-1], \"g-\", label=\"Recall\", linewidth=2) # A changer\n",
    "    plt.xlabel(\"Threshold\", fontsize=16)\n",
    "    plt.legend(loc=\"upper left\", fontsize=16)\n",
    "    plt.ylim([0, 1])\n",
    "\n",
    "plt.figure(figsize=(8, 4))\n",
    "plot_precision_recall_vs_threshold(precisions, recalls, thresholds) # A changer\n",
    "plt.xlim([-700000, 700000])\n",
    "save_fig(\"precision_recall_vs_threshold_plot\")\n",
    "plt.show()\n",
    "\n",
    "def plot_precision_vs_recall(precisions, recalls): # A changer\n",
    "    plt.plot(recalls, precisions, \"k-\", linewidth=2) # A changer\n",
    "    plt.xlabel(\"Recall\", fontsize=16)\n",
    "    plt.ylabel(\"Precision\", fontsize=16)\n",
    "    plt.axis([0, 1, 0, 1])\n",
    "\n",
    "plt.figure(figsize=(8, 6))\n",
    "plot_precision_vs_recall(precisions, recalls) # A changer\n",
    "save_fig(\"precision_vs_recall_plot\")\n",
    "plt.show()"
   ]
  },
  {
   "cell_type": "markdown",
   "id": "71a8413b",
   "metadata": {
    "id": "71a8413b"
   },
   "source": [
    "#### Courbe ROC"
   ]
  },
  {
   "cell_type": "code",
   "execution_count": null,
   "id": "6b713f67",
   "metadata": {
    "id": "6b713f67"
   },
   "outputs": [],
   "source": [
    "from sklearn.metrics import roc_curve\n",
    "\n",
    "fpr, tpr, thresholds = roc_curve(y_train_5, y_scores) # A changer\n",
    "\n",
    "def plot_roc_curve(fpr, tpr, label=None): # A changer\n",
    "    plt.plot(fpr, tpr, linewidth=2, label=label) # A changer\n",
    "    plt.plot([0, 1], [0, 1], 'k--')\n",
    "    plt.axis([0, 1, 0, 1])\n",
    "    plt.xlabel('False Positive Rate', fontsize=16)\n",
    "    plt.ylabel('True Positive Rate', fontsize=16)\n",
    "\n",
    "plt.figure(figsize=(8, 6))\n",
    "plot_roc_curve(fpr, tpr) # A changer\n",
    "save_fig(\"roc_curve_plot\")\n",
    "plt.show()"
   ]
  },
  {
   "cell_type": "markdown",
   "id": "a793ffa7",
   "metadata": {
    "id": "a793ffa7"
   },
   "source": [
    "### Cross validation pour tester le modèle Y"
   ]
  },
  {
   "cell_type": "code",
   "execution_count": null,
   "id": "6676e2ca",
   "metadata": {
    "id": "6676e2ca"
   },
   "outputs": [],
   "source": [
    "from sklearn.model_selection import cross_val_score\n",
    "\n",
    "scores = cross_val_score(tree_reg, housing_prepared, housing_labels, # A changer\n",
    "                         scoring=\"neg_mean_squared_error\", cv=10) # A changer\n",
    "tree_rmse_scores = np.sqrt(-scores) # A changer\n",
    "\n",
    "def display_scores(scores):\n",
    "    print(\"Scores:\", scores)\n",
    "    print(\"Mean:\", scores.mean())\n",
    "    print(\"Standard deviation:\", scores.std())\n",
    "\n",
    "display_scores(tree_rmse_scores)"
   ]
  },
  {
   "cell_type": "markdown",
   "id": "3e3a21cc",
   "metadata": {
    "id": "3e3a21cc"
   },
   "source": [
    "### Utilisation du modèle N"
   ]
  },
  {
   "cell_type": "code",
   "execution_count": null,
   "id": "92ab6a21",
   "metadata": {
    "id": "92ab6a21"
   },
   "outputs": [],
   "source": []
  },
  {
   "cell_type": "markdown",
   "id": "6c3981d5",
   "metadata": {
    "id": "6c3981d5"
   },
   "source": [
    "### Indice de qualité du modèle N"
   ]
  },
  {
   "cell_type": "code",
   "execution_count": null,
   "id": "c725840f",
   "metadata": {
    "id": "c725840f"
   },
   "outputs": [],
   "source": []
  },
  {
   "cell_type": "markdown",
   "id": "233ceb8f",
   "metadata": {
    "id": "233ceb8f"
   },
   "source": [
    "#### Précision et recall"
   ]
  },
  {
   "cell_type": "code",
   "execution_count": null,
   "id": "eb341ad6",
   "metadata": {
    "id": "eb341ad6"
   },
   "outputs": [],
   "source": [
    "from sklearn.metrics import precision_recall_curve\n",
    "precisions, recalls, thresholds = precision_recall_curve(y_train_5, y_scores) # A changer\n",
    "\n",
    "def plot_precision_recall_vs_threshold(precisions, recalls, thresholds): # A changer\n",
    "    plt.plot(thresholds, precisions[:-1], \"b-\", label=\"Precision\", linewidth=2) # A changer\n",
    "    plt.plot(thresholds, recalls[:-1], \"g-\", label=\"Recall\", linewidth=2) # A changer\n",
    "    plt.xlabel(\"Threshold\", fontsize=16)\n",
    "    plt.legend(loc=\"upper left\", fontsize=16)\n",
    "    plt.ylim([0, 1])\n",
    "\n",
    "plt.figure(figsize=(8, 4))\n",
    "plot_precision_recall_vs_threshold(precisions, recalls, thresholds) # A changer\n",
    "plt.xlim([-700000, 700000])\n",
    "save_fig(\"precision_recall_vs_threshold_plot\")\n",
    "plt.show()\n",
    "\n",
    "def plot_precision_vs_recall(precisions, recalls): # A changer\n",
    "    plt.plot(recalls, precisions, \"k-\", linewidth=2) # A changer\n",
    "    plt.xlabel(\"Recall\", fontsize=16)\n",
    "    plt.ylabel(\"Precision\", fontsize=16)\n",
    "    plt.axis([0, 1, 0, 1])\n",
    "\n",
    "plt.figure(figsize=(8, 6))\n",
    "plot_precision_vs_recall(precisions, recalls) # A changer\n",
    "save_fig(\"precision_vs_recall_plot\")\n",
    "plt.show()"
   ]
  },
  {
   "cell_type": "markdown",
   "id": "f6e38853",
   "metadata": {
    "id": "f6e38853"
   },
   "source": [
    "#### Courbe ROC"
   ]
  },
  {
   "cell_type": "code",
   "execution_count": null,
   "id": "62ed1920",
   "metadata": {
    "id": "62ed1920"
   },
   "outputs": [],
   "source": [
    "from sklearn.metrics import roc_curve\n",
    "\n",
    "fpr, tpr, thresholds = roc_curve(y_train_5, y_scores) # A changer\n",
    "\n",
    "def plot_roc_curve(fpr, tpr, label=None): # A changer\n",
    "    plt.plot(fpr, tpr, linewidth=2, label=label) # A changer\n",
    "    plt.plot([0, 1], [0, 1], 'k--')\n",
    "    plt.axis([0, 1, 0, 1])\n",
    "    plt.xlabel('False Positive Rate', fontsize=16)\n",
    "    plt.ylabel('True Positive Rate', fontsize=16)\n",
    "\n",
    "plt.figure(figsize=(8, 6))\n",
    "plot_roc_curve(fpr, tpr) # A changer\n",
    "save_fig(\"roc_curve_plot\")\n",
    "plt.show()"
   ]
  },
  {
   "cell_type": "markdown",
   "id": "e39c1a4a",
   "metadata": {
    "id": "e39c1a4a"
   },
   "source": [
    "### Cross validation pour tester le modèle N"
   ]
  },
  {
   "cell_type": "code",
   "execution_count": null,
   "id": "78720eda",
   "metadata": {
    "id": "78720eda"
   },
   "outputs": [],
   "source": [
    "from sklearn.model_selection import cross_val_score\n",
    "\n",
    "scores = cross_val_score(tree_reg, housing_prepared, housing_labels, # A changer\n",
    "                         scoring=\"neg_mean_squared_error\", cv=10) # A changer\n",
    "tree_rmse_scores = np.sqrt(-scores) # A changer\n",
    "\n",
    "def display_scores(scores):\n",
    "    print(\"Scores:\", scores)\n",
    "    print(\"Mean:\", scores.mean())\n",
    "    print(\"Standard deviation:\", scores.std())\n",
    "\n",
    "display_scores(tree_rmse_scores)"
   ]
  },
  {
   "cell_type": "markdown",
   "id": "608c8d3a",
   "metadata": {
    "id": "608c8d3a"
   },
   "source": [
    "### Séléction du meilleur modèle\n",
    "\n",
    "#### Courbe ROC de comparaison\n",
    "\n",
    "Afin de choisir un modèle, nous allons utiliser les différentes courbes ROC réalisées précédement et les comparer.\n",
    "Le modèle ayant la meilleure courbe sera celui que nous séléctionnerons pour la suite du projet."
   ]
  },
  {
   "cell_type": "code",
   "execution_count": null,
   "id": "e9e52c36",
   "metadata": {
    "id": "e9e52c36"
   },
   "outputs": [],
   "source": [
    "plt.figure(figsize=(8, 6))\n",
    "plt.plot(fpr, tpr, \"b:\", linewidth=2, label=\"SGD\") #A modifier\n",
    "plot_roc_curve(fpr_forest, tpr_forest, \"Random Forest\") #A modifier\n",
    "plt.legend(loc=\"lower right\", fontsize=16)\n",
    "save_fig(\"roc_curve_comparison_plot\")\n",
    "plt.show()"
   ]
  },
  {
   "cell_type": "markdown",
   "id": "9093b863",
   "metadata": {
    "id": "9093b863"
   },
   "source": [
    "### Entrainement sur le test set"
   ]
  },
  {
   "cell_type": "code",
   "execution_count": null,
   "id": "337086fb",
   "metadata": {
    "id": "337086fb"
   },
   "outputs": [],
   "source": [
    "###########TOUT A MODIFIER###########\n",
    "final_model = random_search.best_estimator_\n",
    "\n",
    "X_test = strat_test_set.drop(\"median_house_value\", axis=1)\n",
    "y_test = strat_test_set[\"median_house_value\"].copy()\n",
    "###########TOUT A MODIFIER###########"
   ]
  },
  {
   "cell_type": "markdown",
   "id": "6c66bf44",
   "metadata": {
    "id": "6c66bf44"
   },
   "source": [
    "### Utilistation du modèle pour les prédictions"
   ]
  },
  {
   "cell_type": "code",
   "execution_count": null,
   "id": "a10104d8",
   "metadata": {
    "id": "a10104d8"
   },
   "outputs": [],
   "source": [
    "###########TOUT A MODIFIER###########\n",
    "X_test_prepared = full_pipeline.transform(X_test)\n",
    "final_predictions = final_model.predict(X_test_prepared)\n",
    "final_rmse = mean_squared_error(y_test, final_predictions, squared = False)\n",
    "final_rmse\n",
    "###########TOUT A MODIFIER###########"
   ]
  },
  {
   "cell_type": "markdown",
   "id": "f5725633",
   "metadata": {
    "id": "f5725633"
   },
   "source": [
    "#### Conclusion"
   ]
  }
 ],
 "metadata": {
  "colab": {
   "provenance": []
  },
  "kernelspec": {
   "display_name": "Python 3 (ipykernel)",
   "language": "python",
   "name": "python3"
  },
  "language_info": {
   "codemirror_mode": {
    "name": "ipython",
    "version": 3
   },
   "file_extension": ".py",
   "mimetype": "text/x-python",
   "name": "python",
   "nbconvert_exporter": "python",
   "pygments_lexer": "ipython3",
   "version": "3.9.13"
  }
 },
 "nbformat": 4,
 "nbformat_minor": 5
}
